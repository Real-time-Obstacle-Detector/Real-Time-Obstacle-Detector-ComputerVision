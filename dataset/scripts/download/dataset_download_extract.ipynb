{
 "cells": [
  {
   "cell_type": "code",
   "execution_count": null,
   "id": "25e40778",
   "metadata": {
    "ExecuteTime": {
     "end_time": "2025-03-18T12:41:34.053001Z",
     "start_time": "2025-03-18T12:41:30.026268Z"
    }
   },
   "outputs": [],
   "source": [
    "!pip install gdown\n",
    "!pip install aspose-zip"
   ]
  },
  {
   "cell_type": "code",
   "execution_count": null,
   "id": "121920e3",
   "metadata": {},
   "outputs": [],
   "source": [
    "import gdown\n",
    "import aspose.zip as az"
   ]
  },
  {
   "cell_type": "code",
   "execution_count": null,
   "id": "1f7f4c74",
   "metadata": {
    "ExecuteTime": {
     "end_time": "2025-03-18T13:17:28.580599Z",
     "start_time": "2025-03-18T13:05:41.693670Z"
    }
   },
   "outputs": [
    {
     "name": "stderr",
     "output_type": "stream",
     "text": [
      "100%|██████████| 1.06G/1.06G [11:41<00:00, 1.51MB/s]\n"
     ]
    },
    {
     "data": {
      "text/plain": [
       "'dataset.rar'"
      ]
     },
     "execution_count": 3,
     "metadata": {},
     "output_type": "execute_result"
    }
   ],
   "source": [
    "#This datasets is free to download form my drive. all the legal rights and licenses of providers must be considered. \n",
    "url = \"https://drive.google.com/file/d/1yuKYe8dV9GE7m_4cAj9U5nTV4of_7_Ly/view?usp=sharing\"\n",
    "output_path = 'dataset.rar'\n",
    "gdown.download(url, output_path, quiet=False,fuzzy=True)"
   ]
  },
  {
   "cell_type": "code",
   "execution_count": null,
   "id": "49509a96",
   "metadata": {
    "ExecuteTime": {
     "end_time": "2025-03-18T13:18:28.711683Z",
     "start_time": "2025-03-18T13:18:04.189002Z"
    }
   },
   "outputs": [],
   "source": [
    "#extraction path can be written based on desired path for extraction, basic path is ./datasets in our project\n",
    "EXTRACTION_PATH = \"./datasets/obstacle-detector/\"\n",
    "\n",
    "with az.rar.RarArchive(\"dataset.rar\") as archive:\n",
    "  \n",
    "    archive.extract_to_directory(EXTRACTION_PATH)"
   ]
  }
 ],
 "metadata": {
  "kernelspec": {
   "display_name": "Python 3 (ipykernel)",
   "language": "python",
   "name": "python3"
  },
  "language_info": {
   "codemirror_mode": {
    "name": "ipython",
    "version": 3
   },
   "file_extension": ".py",
   "mimetype": "text/x-python",
   "name": "python",
   "nbconvert_exporter": "python",
   "pygments_lexer": "ipython3",
   "version": "3.8.10"
  },
  "toc": {
   "base_numbering": 1,
   "nav_menu": {},
   "number_sections": false,
   "sideBar": true,
   "skip_h1_title": false,
   "title_cell": "Table of Contents",
   "title_sidebar": "Contents",
   "toc_cell": false,
   "toc_position": {},
   "toc_section_display": true,
   "toc_window_display": false
  }
 },
 "nbformat": 4,
 "nbformat_minor": 5
}
