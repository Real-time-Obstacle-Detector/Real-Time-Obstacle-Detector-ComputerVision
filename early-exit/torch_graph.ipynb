{
  "nbformat": 4,
  "nbformat_minor": 0,
  "metadata": {
    "colab": {
      "provenance": [],
      "gpuType": "T4"
    },
    "kernelspec": {
      "name": "python3",
      "display_name": "Python 3"
    },
    "language_info": {
      "name": "python"
    },
    "accelerator": "GPU"
  },
  "cells": [
    {
      "cell_type": "markdown",
      "source": [
        "***Libraries and Variables***"
      ],
      "metadata": {
        "id": "0GVOqh-nORPO"
      }
    },
    {
      "cell_type": "code",
      "source": [
        "!pip install ultralytics\n",
        "!pip install onnx\n",
        "!pip install onnx_tf\n",
        "!pip install protobuf==3.20.1\n",
        "!pip install keras==2.11.0\n",
        "!pip install tensorflow-estimator==2.11.0\n",
        "!pip install tensorboard==2.11.0\n",
        "!pip install torchinfo\n",
        "!pip install torchviz\n",
        "!pip install torchview\n",
        "!pip install graphviz"
      ],
      "metadata": {
        "id": "c2cFZz2oOfHN"
      },
      "execution_count": null,
      "outputs": []
    },
    {
      "cell_type": "code",
      "source": [
        "import os\n",
        "import torch\n",
        "import torch.nn as nn\n",
        "from torchinfo import summary\n",
        "from torchview import draw_graph"
      ],
      "metadata": {
        "id": "aur8TM13OiS-"
      },
      "execution_count": 2,
      "outputs": []
    },
    {
      "cell_type": "code",
      "source": [
        "print(\"Torch Cuda - GPU informaiton:\")\n",
        "print(\"availablity: \", torch.cuda.is_available())\n",
        "print(\"name: \", torch.cuda.get_device_name())\n",
        "print(\"properties: \", torch.cuda.get_device_properties(device= 0))"
      ],
      "metadata": {
        "colab": {
          "base_uri": "https://localhost:8080/"
        },
        "id": "QBwLou2fOqIb",
        "outputId": "0b764c20-8795-43d3-a3f4-10ea0c450cfd"
      },
      "execution_count": 3,
      "outputs": [
        {
          "output_type": "stream",
          "name": "stdout",
          "text": [
            "Torch Cuda - GPU informaiton:\n",
            "availablity:  True\n",
            "name:  Tesla T4\n",
            "properties:  _CudaDeviceProperties(name='Tesla T4', major=7, minor=5, total_memory=15095MB, multi_processor_count=40, uuid=6289ad84-be62-b944-32dd-654d34ba8df6, pci_bus_id=0, pci_device_id=4, pci_domain_id=0, L2_cache_size=4MB)\n"
          ]
        }
      ]
    },
    {
      "cell_type": "code",
      "source": [
        "#Enviromental variables\n",
        "DEVICE= 'cuda' if torch.cuda.is_available() else 'cpu' #device declearation for model traning\n",
        "IMG_SIZE= 640 #size of image and input tensors\n",
        "BATCH_SIZE= 16\n",
        "EPOCHS= 100"
      ],
      "metadata": {
        "id": "eLfFpoOBOsTS"
      },
      "execution_count": 4,
      "outputs": []
    },
    {
      "cell_type": "markdown",
      "source": [
        "# Building YoloV8 woth Early Rxit Layers and Plotting its graph"
      ],
      "metadata": {
        "id": "ma2nDrnFPnZs"
      }
    },
    {
      "cell_type": "code",
      "source": [
        "from yolov8_EE_network import YOLOv8n_EE\n",
        "\n",
        "yolo_ee = YOLO('yolov8n.pt')\n",
        "#we will pass our new model to pretrained model\n",
        "yolo_ee.model = YOLOv8n_EE(nc= 18, model_yaml= \"yolov8n_ee.yaml\").to(DEVICE)"
      ],
      "metadata": {
        "id": "eWvNbcbgQw5w"
      },
      "execution_count": 7,
      "outputs": []
    },
    {
      "cell_type": "code",
      "source": [
        "summary(yolo_ee.model)"
      ],
      "metadata": {
        "colab": {
          "base_uri": "https://localhost:8080/"
        },
        "id": "mJeaFDMjU80U",
        "outputId": "32d44a6a-6e34-4870-e553-6abfd372ae3b"
      },
      "execution_count": 10,
      "outputs": [
        {
          "output_type": "execute_result",
          "data": {
            "text/plain": [
              "======================================================================\n",
              "Layer (type:depth-idx)                        Param #\n",
              "======================================================================\n",
              "YOLOv8n_EE                                    --\n",
              "├─Conv: 1-1                                   --\n",
              "│    └─Conv2d: 2-1                            1,728\n",
              "│    └─BatchNorm2d: 2-2                       128\n",
              "│    └─SiLU: 2-3                              --\n",
              "├─Conv: 1-2                                   --\n",
              "│    └─Conv2d: 2-4                            73,728\n",
              "│    └─BatchNorm2d: 2-5                       256\n",
              "│    └─SiLU: 2-6                              --\n",
              "├─C2f: 1-3                                    --\n",
              "│    └─Conv: 2-7                              --\n",
              "│    │    └─Conv2d: 3-1                       32,768\n",
              "│    │    └─BatchNorm2d: 3-2                  512\n",
              "│    │    └─SiLU: 3-3                         --\n",
              "│    └─Conv: 2-8                              --\n",
              "│    │    └─Conv2d: 3-4                       81,920\n",
              "│    │    └─BatchNorm2d: 3-5                  256\n",
              "│    │    └─SiLU: 3-6                         --\n",
              "│    └─ModuleList: 2-9                        --\n",
              "│    │    └─Bottleneck: 3-7                   295,424\n",
              "│    │    └─Bottleneck: 3-8                   295,424\n",
              "│    │    └─Bottleneck: 3-9                   295,424\n",
              "├─Detect: 1-4                                 --\n",
              "│    └─ModuleList: 2-10                       --\n",
              "│    │    └─Sequential: 3-10                  115,008\n",
              "│    └─ModuleList: 2-11                       --\n",
              "│    │    └─Sequential: 3-11                  297,746\n",
              "│    └─DFL: 2-12                              --\n",
              "│    │    └─Conv2d: 3-12                      (16)\n",
              "├─Conv: 1-5                                   --\n",
              "│    └─Conv2d: 2-13                           294,912\n",
              "│    └─BatchNorm2d: 2-14                      512\n",
              "│    └─SiLU: 2-15                             --\n",
              "├─C2f: 1-6                                    --\n",
              "│    └─Conv: 2-16                             --\n",
              "│    │    └─Conv2d: 3-13                      131,072\n",
              "│    │    └─BatchNorm2d: 3-14                 1,024\n",
              "│    │    └─SiLU: 3-15                        --\n",
              "│    └─Conv: 2-17                             --\n",
              "│    │    └─Conv2d: 3-16                      524,288\n",
              "│    │    └─BatchNorm2d: 3-17                 512\n",
              "│    │    └─SiLU: 3-18                        --\n",
              "│    └─ModuleList: 2-18                       --\n",
              "│    │    └─Bottleneck: 3-19                  1,180,672\n",
              "│    │    └─Bottleneck: 3-20                  1,180,672\n",
              "│    │    └─Bottleneck: 3-21                  1,180,672\n",
              "│    │    └─Bottleneck: 3-22                  1,180,672\n",
              "│    │    └─Bottleneck: 3-23                  1,180,672\n",
              "│    │    └─Bottleneck: 3-24                  1,180,672\n",
              "├─Detect: 1-7                                 --\n",
              "│    └─ModuleList: 2-19                       --\n",
              "│    │    └─Sequential: 3-25                  188,736\n",
              "│    └─ModuleList: 2-20                       --\n",
              "│    │    └─Sequential: 3-26                  1,185,298\n",
              "│    └─DFL: 2-21                              --\n",
              "│    │    └─Conv2d: 3-27                      (16)\n",
              "├─Conv: 1-8                                   --\n",
              "│    └─Conv2d: 2-22                           1,179,648\n",
              "│    └─BatchNorm2d: 2-23                      1,024\n",
              "│    └─SiLU: 2-24                             --\n",
              "├─C2f: 1-9                                    --\n",
              "│    └─Conv: 2-25                             --\n",
              "│    │    └─Conv2d: 3-28                      524,288\n",
              "│    │    └─BatchNorm2d: 3-29                 2,048\n",
              "│    │    └─SiLU: 3-30                        --\n",
              "│    └─Conv: 2-26                             --\n",
              "│    │    └─Conv2d: 3-31                      2,097,152\n",
              "│    │    └─BatchNorm2d: 3-32                 1,024\n",
              "│    │    └─SiLU: 3-33                        --\n",
              "│    └─ModuleList: 2-27                       --\n",
              "│    │    └─Bottleneck: 3-34                  4,720,640\n",
              "│    │    └─Bottleneck: 3-35                  4,720,640\n",
              "│    │    └─Bottleneck: 3-36                  4,720,640\n",
              "│    │    └─Bottleneck: 3-37                  4,720,640\n",
              "│    │    └─Bottleneck: 3-38                  4,720,640\n",
              "│    │    └─Bottleneck: 3-39                  4,720,640\n",
              "├─Detect: 1-10                                --\n",
              "│    └─ModuleList: 2-28                       --\n",
              "│    │    └─Sequential: 3-40                  746,048\n",
              "│    └─ModuleList: 2-29                       --\n",
              "│    │    └─Sequential: 3-41                  4,729,874\n",
              "│    └─DFL: 2-30                              --\n",
              "│    │    └─Conv2d: 3-42                      (16)\n",
              "├─Conv: 1-11                                  --\n",
              "│    └─Conv2d: 2-31                           4,718,592\n",
              "│    └─BatchNorm2d: 2-32                      2,048\n",
              "│    └─SiLU: 2-33                             --\n",
              "├─C2f: 1-12                                   --\n",
              "│    └─Conv: 2-34                             --\n",
              "│    │    └─Conv2d: 3-43                      2,097,152\n",
              "│    │    └─BatchNorm2d: 3-44                 4,096\n",
              "│    │    └─SiLU: 3-45                        --\n",
              "│    └─Conv: 2-35                             --\n",
              "│    │    └─Conv2d: 3-46                      5,242,880\n",
              "│    │    └─BatchNorm2d: 3-47                 2,048\n",
              "│    │    └─SiLU: 3-48                        --\n",
              "│    └─ModuleList: 2-36                       --\n",
              "│    │    └─Bottleneck: 3-49                  18,878,464\n",
              "│    │    └─Bottleneck: 3-50                  18,878,464\n",
              "│    │    └─Bottleneck: 3-51                  18,878,464\n",
              "├─SPPF: 1-13                                  --\n",
              "│    └─Conv: 2-37                             --\n",
              "│    │    └─Conv2d: 3-52                      524,288\n",
              "│    │    └─BatchNorm2d: 3-53                 1,024\n",
              "│    │    └─SiLU: 3-54                        --\n",
              "│    └─Conv: 2-38                             --\n",
              "│    │    └─Conv2d: 3-55                      2,097,152\n",
              "│    │    └─BatchNorm2d: 3-56                 2,048\n",
              "│    │    └─SiLU: 3-57                        --\n",
              "│    └─MaxPool2d: 2-39                        --\n",
              "├─Upsample: 1-14                              --\n",
              "├─Concat: 1-15                                --\n",
              "├─C2f: 1-16                                   --\n",
              "│    └─Conv: 2-40                             --\n",
              "│    │    └─Conv2d: 3-58                      786,432\n",
              "│    │    └─BatchNorm2d: 3-59                 1,024\n",
              "│    │    └─SiLU: 3-60                        --\n",
              "│    └─Conv: 2-41                             --\n",
              "│    │    └─Conv2d: 3-61                      655,360\n",
              "│    │    └─BatchNorm2d: 3-62                 1,024\n",
              "│    │    └─SiLU: 3-63                        --\n",
              "│    └─ModuleList: 2-42                       --\n",
              "│    │    └─Bottleneck: 3-64                  1,180,672\n",
              "│    │    └─Bottleneck: 3-65                  1,180,672\n",
              "│    │    └─Bottleneck: 3-66                  1,180,672\n",
              "├─Upsample: 1-17                              --\n",
              "├─Concat: 1-18                                --\n",
              "├─C2f: 1-19                                   --\n",
              "│    └─Conv: 2-43                             --\n",
              "│    │    └─Conv2d: 3-67                      196,608\n",
              "│    │    └─BatchNorm2d: 3-68                 512\n",
              "│    │    └─SiLU: 3-69                        --\n",
              "│    └─Conv: 2-44                             --\n",
              "│    │    └─Conv2d: 3-70                      163,840\n",
              "│    │    └─BatchNorm2d: 3-71                 512\n",
              "│    │    └─SiLU: 3-72                        --\n",
              "│    └─ModuleList: 2-45                       --\n",
              "│    │    └─Bottleneck: 3-73                  295,424\n",
              "│    │    └─Bottleneck: 3-74                  295,424\n",
              "│    │    └─Bottleneck: 3-75                  295,424\n",
              "├─Conv: 1-20                                  --\n",
              "│    └─Conv2d: 2-46                           589,824\n",
              "│    └─BatchNorm2d: 2-47                      512\n",
              "│    └─SiLU: 2-48                             --\n",
              "├─Concat: 1-21                                --\n",
              "├─C2f: 1-22                                   --\n",
              "│    └─Conv: 2-49                             --\n",
              "│    │    └─Conv2d: 3-76                      393,216\n",
              "│    │    └─BatchNorm2d: 3-77                 1,024\n",
              "│    │    └─SiLU: 3-78                        --\n",
              "│    └─Conv: 2-50                             --\n",
              "│    │    └─Conv2d: 3-79                      655,360\n",
              "│    │    └─BatchNorm2d: 3-80                 1,024\n",
              "│    │    └─SiLU: 3-81                        --\n",
              "│    └─ModuleList: 2-51                       --\n",
              "│    │    └─Bottleneck: 3-82                  1,180,672\n",
              "│    │    └─Bottleneck: 3-83                  1,180,672\n",
              "│    │    └─Bottleneck: 3-84                  1,180,672\n",
              "├─Conv: 1-23                                  --\n",
              "│    └─Conv2d: 2-52                           2,359,296\n",
              "│    └─BatchNorm2d: 2-53                      1,024\n",
              "│    └─SiLU: 2-54                             --\n",
              "├─Concat: 1-24                                --\n",
              "├─C2f: 1-25                                   --\n",
              "│    └─Conv: 2-55                             --\n",
              "│    │    └─Conv2d: 3-85                      1,572,864\n",
              "│    │    └─BatchNorm2d: 3-86                 2,048\n",
              "│    │    └─SiLU: 3-87                        --\n",
              "│    └─Conv: 2-56                             --\n",
              "│    │    └─Conv2d: 3-88                      2,621,440\n",
              "│    │    └─BatchNorm2d: 3-89                 2,048\n",
              "│    │    └─SiLU: 3-90                        --\n",
              "│    └─ModuleList: 2-57                       --\n",
              "│    │    └─Bottleneck: 3-91                  4,720,640\n",
              "│    │    └─Bottleneck: 3-92                  4,720,640\n",
              "│    │    └─Bottleneck: 3-93                  4,720,640\n",
              "├─Detect: 1-26                                --\n",
              "│    └─ModuleList: 2-58                       --\n",
              "│    │    └─Sequential: 3-94                  188,736\n",
              "│    │    └─Sequential: 3-95                  336,192\n",
              "│    │    └─Sequential: 3-96                  631,104\n",
              "│    └─ModuleList: 2-59                       --\n",
              "│    │    └─Sequential: 3-97                  1,185,298\n",
              "│    │    └─Sequential: 3-98                  1,775,122\n",
              "│    │    └─Sequential: 3-99                  2,954,770\n",
              "│    └─DFL: 2-60                              --\n",
              "│    │    └─Conv2d: 3-100                     (16)\n",
              "======================================================================\n",
              "Total params: 159,040,876\n",
              "Trainable params: 159,040,812\n",
              "Non-trainable params: 64\n",
              "======================================================================"
            ]
          },
          "metadata": {},
          "execution_count": 10
        }
      ]
    },
    {
      "cell_type": "code",
      "source": [
        "example = torch.randn(1, 3, 640, 640)\n",
        "\n",
        "#Draw new model's graph to findout new connetions and structure\n",
        "graph = draw_graph(\n",
        "    yolo_ee.model,\n",
        "    input_size=(1, 3, 640, 640),\n",
        "    expand_nested=True,      # show child modules\n",
        "    roll=False,              # vertical layout\n",
        "    graph_name=\"YOLO_EE_Graph\",\n",
        ")\n",
        "\n",
        "# Save our model's graph to PNG file\n",
        "graph.visual_graph.render(\"yolo_early_exit_torchview\", format=\"png\", cleanup=True)\n",
        "print(\"Saved:\", \"yolo_early_exit_torchview.png\")"
      ],
      "metadata": {
        "colab": {
          "base_uri": "https://localhost:8080/"
        },
        "id": "zroHxlXbRCQi",
        "outputId": "137d8a16-15d9-4b6e-cd69-cdbf47335f27"
      },
      "execution_count": 8,
      "outputs": [
        {
          "output_type": "stream",
          "name": "stdout",
          "text": [
            "Saved: yolo_early_exit_torchview.png\n"
          ]
        }
      ]
    },
    {
      "cell_type": "code",
      "source": [
        "#Plot and show our new model architecture ...\n",
        "\n",
        "img = mpimg.imread('yolo_early_exit_torchview.png')\n",
        "plt.imshow(img)\n",
        "plt.axis('off') # Hide axes\n",
        "plt.show()"
      ],
      "metadata": {
        "colab": {
          "base_uri": "https://localhost:8080/",
          "height": 406
        },
        "id": "KCpDw_0VTnVD",
        "outputId": "346ab308-e29a-4a96-f75c-ef70c6f1aef4"
      },
      "execution_count": 9,
      "outputs": [
        {
          "output_type": "display_data",
          "data": {
            "text/plain": [
              "<Figure size 640x480 with 1 Axes>"
            ],
            "image/png": "[encoded data removed]"
          },
          "metadata": {}
        }
      ]
    }
  ]
}