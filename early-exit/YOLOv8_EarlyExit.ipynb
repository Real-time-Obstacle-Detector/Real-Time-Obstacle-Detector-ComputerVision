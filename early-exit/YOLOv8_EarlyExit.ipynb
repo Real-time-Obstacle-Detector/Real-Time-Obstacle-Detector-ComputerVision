{
  "cells": [
    {
      "cell_type": "markdown",
      "id": "a5d4b7d3",
      "metadata": {
        "id": "a5d4b7d3"
      },
      "source": [
        "# Package Imoport and Installation"
      ]
    },
    {
      "cell_type": "code",
      "execution_count": 1,
      "id": "38a23395",
      "metadata": {
        "collapsed": true,
        "id": "38a23395"
      },
      "outputs": [],
      "source": [
        "%%capture\n",
        "!pip install ultralytics\n",
        "!pip install onnx\n",
        "!pip install onnx_tf\n",
        "!pip install matplotlib\n",
        "!pip install protobuf==3.20.1\n",
        "!pip install keras==2.11.0\n",
        "!pip install tensorflow-estimator==2.11.0\n",
        "!pip install tensorboard==2.11.0\n",
        "!pip install torchinfo\n",
        "!pip install torchview"
      ]
    },
    {
      "cell_type": "code",
      "execution_count": 2,
      "id": "e418c6ef",
      "metadata": {
        "id": "e418c6ef"
      },
      "outputs": [],
      "source": [
        "%%capture\n",
        "import os\n",
        "import json, datetime\n",
        "import torch\n",
        "from ultralytics import YOLO\n",
        "from torchinfo import summary\n",
        "from yolov8_EE_network import YOLOv8n_EE #implemented network leveraging ultralytics and torch utils\n",
        "from torch_graph import model_graph #implemented graph service for demonstrating model's architecture"
      ]
    },
    {
      "cell_type": "code",
      "execution_count": null,
      "id": "1cdb2bc1",
      "metadata": {
        "id": "1cdb2bc1"
      },
      "outputs": [],
      "source": [
        "ROOT_DIR= '/content/drive/MyDrive/dataset/dataset' #our dataset's directory\n",
        "test_folder= os.path.join(ROOT_DIR, 'test/images/')\n",
        "DATA_YAML= os.path.join(ROOT_DIR, 'data.yaml') #dataset yaml file\n",
        "MODEL_YAML = \"/content/drive/MyDrive/EE using ultralitycs/yolov8n_ee.yaml\"\n",
        "DEVICE= 'cuda' if torch.cuda.is_available() else 'cpu' #device declearation for model traning\n",
        "IMG_SIZE= 640 #size of image and input tensors\n",
        "BATCH_SIZE= 16\n",
        "EPOCHS= 2\n",
        "class_count = 1"
      ]
    },
    {
      "cell_type": "markdown",
      "id": "6bovTsI3o-Zq",
      "metadata": {
        "id": "6bovTsI3o-Zq"
      },
      "source": [
        "(Optional) **T4-GPU Availability Checking and Drive Mounting for Providing Dataset Access**\n",
        "\n",
        "If you are running this code on a local computer or server you may pass this section."
      ]
    },
    {
      "cell_type": "code",
      "execution_count": 6,
      "id": "NJOqCEnJ5LLX",
      "metadata": {
        "colab": {
          "base_uri": "https://localhost:8080/"
        },
        "id": "NJOqCEnJ5LLX",
        "outputId": "275d4d37-b98d-41f8-e22e-b871cab1118f"
      },
      "outputs": [
        {
          "name": "stdout",
          "output_type": "stream",
          "text": [
            "Drive already mounted at /content/drive/; to attempt to forcibly remount, call drive.mount(\"/content/drive/\", force_remount=True).\n",
            "/content/drive/MyDrive/EE using ultralitycs\n",
            "'Copy of Copy of YOLOv8_EarlyExit.ipynb'   torch_graph.py\n",
            " __pycache__\t\t\t\t   yolo11n.pt\n",
            " requirements.txt\t\t\t   yolo_early_exit_torchview.png\n",
            " runs\t\t\t\t\t   YOLOv8_EarlyExit.ipynb\n",
            " tensor.pt\t\t\t\t   yolov8_EE_network.py\n",
            " test.ipynb\t\t\t\t   yolov8n_ee.yaml\n",
            " torch_graph.ipynb\t\t\t   yolov8n.pt\n"
          ]
        }
      ],
      "source": [
        "from google.colab import drive\n",
        "drive.mount('/content/drive/')\n",
        "\n",
        "%cd /content/drive/MyDrive/EE using ultralitycs\n",
        "!ls"
      ]
    },
    {
      "cell_type": "code",
      "execution_count": 7,
      "id": "780525f2",
      "metadata": {
        "colab": {
          "base_uri": "https://localhost:8080/"
        },
        "id": "780525f2",
        "outputId": "756b2ee9-e9ae-4fb6-c73a-4837b92d476e"
      },
      "outputs": [
        {
          "name": "stdout",
          "output_type": "stream",
          "text": [
            "Torch Cuda - GPU informaiton:\n",
            "availablity:  True\n",
            "name:  Tesla T4\n",
            "properties:  _CudaDeviceProperties(name='Tesla T4', major=7, minor=5, total_memory=15095MB, multi_processor_count=40, uuid=4bfbf75f-fa0b-7365-4635-842fa243dd30, pci_bus_id=0, pci_device_id=4, pci_domain_id=0, L2_cache_size=4MB)\n"
          ]
        }
      ],
      "source": [
        "print(\"Torch Cuda - GPU informaiton:\")\n",
        "print(\"availablity: \", torch.cuda.is_available())\n",
        "print(\"name: \", torch.cuda.get_device_name())\n",
        "print(\"properties: \", torch.cuda.get_device_properties(device= 0))"
      ]
    },
    {
      "cell_type": "markdown",
      "id": "055ced79",
      "metadata": {
        "id": "055ced79"
      },
      "source": [
        "# Early Exit Implementation in YOLOv8n"
      ]
    },
    {
      "cell_type": "markdown",
      "id": "8f540873",
      "metadata": {
        "id": "8f540873"
      },
      "source": [
        "## Adding Early-Exit layers using ultralytics utilities\n",
        "\n",
        "Here we will reimplement YOLOv8's architecture and will add 5 detect layers in backbone and neck aim to increase its infrence time and decrease its computational overheads while we are tending to maintaion accuracy's rates static as far as its possible."
      ]
    },
    {
      "cell_type": "code",
      "execution_count": 46,
      "id": "YTrgtn1HW9Jc",
      "metadata": {
        "colab": {
          "base_uri": "https://localhost:8080/"
        },
        "id": "YTrgtn1HW9Jc",
        "outputId": "14060ebb-d508-40b7-900f-3eb163cd174c"
      },
      "outputs": [
        {
          "data": {
            "text/plain": [
              "===========================================================================\n",
              "Layer (type:depth-idx)                             Param #\n",
              "===========================================================================\n",
              "YOLO                                               --\n",
              "├─YOLOv8n_EE: 1-1                                  --\n",
              "│    └─Conv: 2-1                                   --\n",
              "│    │    └─Conv2d: 3-1                            1,728\n",
              "│    │    └─BatchNorm2d: 3-2                       128\n",
              "│    │    └─SiLU: 3-3                              --\n",
              "│    └─Conv: 2-2                                   --\n",
              "│    │    └─Conv2d: 3-4                            73,728\n",
              "│    │    └─BatchNorm2d: 3-5                       256\n",
              "│    │    └─SiLU: 3-6                              --\n",
              "│    └─C2f: 2-3                                    --\n",
              "│    │    └─Conv: 3-7                              33,280\n",
              "│    │    └─Conv: 3-8                              82,176\n",
              "│    │    └─ModuleList: 3-9                        886,272\n",
              "│    └─Detect: 2-4                                 --\n",
              "│    │    └─ModuleList: 3-10                       115,008\n",
              "│    │    └─ModuleList: 3-11                       295,553\n",
              "│    │    └─DFL: 3-12                              (16)\n",
              "│    └─Conv: 2-5                                   --\n",
              "│    │    └─Conv2d: 3-13                           294,912\n",
              "│    │    └─BatchNorm2d: 3-14                      512\n",
              "│    │    └─SiLU: 3-15                             --\n",
              "│    └─C2f: 2-6                                    --\n",
              "│    │    └─Conv: 3-16                             132,096\n",
              "│    │    └─Conv: 3-17                             524,800\n",
              "│    │    └─ModuleList: 3-18                       7,084,032\n",
              "│    └─Detect: 2-7                                 --\n",
              "│    │    └─ModuleList: 3-19                       188,736\n",
              "│    │    └─ModuleList: 3-20                       1,180,929\n",
              "│    │    └─DFL: 3-21                              (16)\n",
              "│    └─Conv: 2-8                                   --\n",
              "│    │    └─Conv2d: 3-22                           1,179,648\n",
              "│    │    └─BatchNorm2d: 3-23                      1,024\n",
              "│    │    └─SiLU: 3-24                             --\n",
              "│    └─C2f: 2-9                                    --\n",
              "│    │    └─Conv: 3-25                             526,336\n",
              "│    │    └─Conv: 3-26                             2,098,176\n",
              "│    │    └─ModuleList: 3-27                       28,323,840\n",
              "│    └─Detect: 2-10                                --\n",
              "│    │    └─ModuleList: 3-28                       746,048\n",
              "│    │    └─ModuleList: 3-29                       4,721,153\n",
              "│    │    └─DFL: 3-30                              (16)\n",
              "│    └─Conv: 2-11                                  --\n",
              "│    │    └─Conv2d: 3-31                           4,718,592\n",
              "│    │    └─BatchNorm2d: 3-32                      2,048\n",
              "│    │    └─SiLU: 3-33                             --\n",
              "│    └─C2f: 2-12                                   --\n",
              "│    │    └─Conv: 3-34                             2,101,248\n",
              "│    │    └─Conv: 3-35                             5,244,928\n",
              "│    │    └─ModuleList: 3-36                       56,635,392\n",
              "│    └─Detect: 2-13                                --\n",
              "│    │    └─ModuleList: 3-37                       2,966,592\n",
              "│    │    └─ModuleList: 3-38                       18,879,489\n",
              "│    │    └─DFL: 3-39                              (16)\n",
              "│    └─SPPF: 2-14                                  --\n",
              "│    │    └─Conv: 3-40                             525,312\n",
              "│    │    └─Conv: 3-41                             2,099,200\n",
              "│    │    └─MaxPool2d: 3-42                        --\n",
              "│    └─Upsample: 2-15                              --\n",
              "│    └─Concat: 2-16                                --\n",
              "│    └─C2f: 2-17                                   --\n",
              "│    │    └─Conv: 3-43                             787,456\n",
              "│    │    └─Conv: 3-44                             656,384\n",
              "│    │    └─ModuleList: 3-45                       3,542,016\n",
              "│    └─Detect: 2-18                                --\n",
              "│    │    └─ModuleList: 3-46                       746,048\n",
              "│    │    └─ModuleList: 3-47                       4,721,153\n",
              "│    │    └─DFL: 3-48                              (16)\n",
              "│    └─Upsample: 2-19                              --\n",
              "│    └─Concat: 2-20                                --\n",
              "│    └─C2f: 2-21                                   --\n",
              "│    │    └─Conv: 3-49                             197,120\n",
              "│    │    └─Conv: 3-50                             164,352\n",
              "│    │    └─ModuleList: 3-51                       886,272\n",
              "│    └─Conv: 2-22                                  --\n",
              "│    │    └─Conv2d: 3-52                           589,824\n",
              "│    │    └─BatchNorm2d: 3-53                      512\n",
              "│    │    └─SiLU: 3-54                             --\n",
              "│    └─Concat: 2-23                                --\n",
              "│    └─C2f: 2-24                                   --\n",
              "│    │    └─Conv: 3-55                             394,240\n",
              "│    │    └─Conv: 3-56                             656,384\n",
              "│    │    └─ModuleList: 3-57                       3,542,016\n",
              "│    └─Conv: 2-25                                  --\n",
              "│    │    └─Conv2d: 3-58                           2,359,296\n",
              "│    │    └─BatchNorm2d: 3-59                      1,024\n",
              "│    │    └─SiLU: 3-60                             --\n",
              "│    └─Concat: 2-26                                --\n",
              "│    └─C2f: 2-27                                   --\n",
              "│    │    └─Conv: 3-61                             1,574,912\n",
              "│    │    └─Conv: 3-62                             2,623,488\n",
              "│    │    └─ModuleList: 3-63                       14,161,920\n",
              "│    └─Detect: 2-28                                --\n",
              "│    │    └─ModuleList: 3-64                       1,156,032\n",
              "│    │    └─ModuleList: 3-65                       5,902,083\n",
              "│    │    └─DFL: 3-66                              (16)\n",
              "===========================================================================\n",
              "Total params: 186,325,800\n",
              "Trainable params: 186,325,704\n",
              "Non-trainable params: 96\n",
              "==========================================================================="
            ]
          },
          "execution_count": 46,
          "metadata": {},
          "output_type": "execute_result"
        }
      ],
      "source": [
        "#Build model and extract its summary\n",
        "yolo_ee = YOLO(MODEL_YAML)\n",
        "\n",
        "yolo_ee.model = YOLOv8n_EE(nc=class_count,model_yaml=MODEL_YAML).to(DEVICE)\n",
        "\n",
        "summary(yolo_ee)"
      ]
    },
    {
      "cell_type": "code",
      "execution_count": null,
      "id": "WOqGJ59Gyfax",
      "metadata": {
        "id": "WOqGJ59Gyfax"
      },
      "outputs": [],
      "source": [
        "model_graph(\n",
        "    yolo_ee,\n",
        "    expand_nested=False,\n",
        "    graph_name=\"YOLO_EE_Graph\",\n",
        ")"
      ]
    },
    {
      "cell_type": "code",
      "execution_count": null,
      "id": "281549e9",
      "metadata": {
        "colab": {
          "base_uri": "https://localhost:8080/"
        },
        "id": "281549e9",
        "outputId": "792bc6a3-e2c0-45b4-b935-4b373ec20d53"
      },
      "outputs": [],
      "source": [
        "results = yolo_ee.train(\n",
        "    data=DATA_YAML,\n",
        "    imgsz=IMG_SIZE,\n",
        "    batch=BATCH_SIZE,\n",
        "    epochs=EPOCHS,\n",
        "    device=DEVICE,\n",
        "    name='yolov8n-ee',\n",
        "    pretrained=False\n",
        ")\n"
      ]
    },
    {
      "cell_type": "markdown",
      "id": "b778839c",
      "metadata": {
        "id": "b778839c"
      },
      "source": [
        "## Test and Validation"
      ]
    },
    {
      "cell_type": "code",
      "execution_count": 42,
      "id": "tbNqMM--zAYY",
      "metadata": {
        "id": "tbNqMM--zAYY"
      },
      "outputs": [],
      "source": [
        "def log_exit(event):\n",
        "    \"\"\"  Access model outputs per batch; exact fields vary by version, this function will help us in analyzing early exit layer performance\n",
        "         Args:\n",
        "              event: event is a Predictor/Validator object depending on stage that we can extract needed statics from\n",
        "    \"\"\"\n",
        "        # event is a Predictor/Validator object depending on stage\n",
        "    #\n",
        "\n",
        "    batch = event.batch\n",
        "    preds = event.results  # or event.batch_preds / event.outputs in some versions\n",
        "    now = datetime.datetime.now().isoformat(timespec='seconds')\n",
        "    # You can also read a flag you set on your model during forward, e.g., model.last_exit_id\n",
        "    exit_id = getattr(event.model, \"outputs\", None)\n",
        "    print(exit_id)\n",
        "    with open(\"exit_log.jsonl\", \"a\") as f:\n",
        "        f.write(json.dumps({\"t\": now, \"stage\": event.__class__.__name__,\n",
        "                           \"exit\": exit_id, \"batch_size\": len(preds)}) + \"\\n\")"
      ]
    },
    {
      "cell_type": "code",
      "execution_count": null,
      "id": "4ZNDxNXonXMW",
      "metadata": {
        "colab": {
          "base_uri": "https://localhost:8080/"
        },
        "id": "4ZNDxNXonXMW",
        "outputId": "ca405342-1727-475f-d023-e1bac8b802fe"
      },
      "outputs": [],
      "source": [
        "model_path = \"/content/drive/MyDrive/EE using ultralitycs/runs/detect/yolov8n-ee22/weights/best.pt\"\n",
        "# 1) Load the Ultralytics model from the .pt\n",
        "model = YOLO(model_path)\n",
        "\n",
        "test_results = model.predict(source=test_folder, save=True, show=False)\n",
        "print(\"Prediction complete. Check the 'runs/detect/predict/' folder for the saved results with bounding boxes.\")\n",
        "\n",
        "# Test and Valifation\n",
        "model.val(data=DATA_YAML,split=\"test\")\n",
        "\n",
        "print(\"Validation complete. Check the 'runs/detect/valid/' folder for the saved validation statics.\")"
      ]
    }
  ],
  "metadata": {
    "accelerator": "GPU",
    "colab": {
      "gpuType": "T4",
      "provenance": [],
      "toc_visible": true
    },
    "kernelspec": {
      "display_name": "Python 3",
      "name": "python3"
    },
    "language_info": {
      "codemirror_mode": {
        "name": "ipython",
        "version": 3
      },
      "file_extension": ".py",
      "mimetype": "text/x-python",
      "name": "python",
      "nbconvert_exporter": "python",
      "pygments_lexer": "ipython3",
      "version": "3.8.10"
    },
    "toc": {
      "base_numbering": 1,
      "nav_menu": {},
      "number_sections": false,
      "sideBar": true,
      "skip_h1_title": false,
      "title_cell": "Table of Contents",
      "title_sidebar": "Contents",
      "toc_cell": false,
      "toc_position": {},
      "toc_section_display": true,
      "toc_window_display": false
    }
  },
  "nbformat": 4,
  "nbformat_minor": 5
}
